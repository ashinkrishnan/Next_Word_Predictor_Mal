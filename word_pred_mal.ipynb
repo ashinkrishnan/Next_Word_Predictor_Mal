{
  "nbformat": 4,
  "nbformat_minor": 0,
  "metadata": {
    "colab": {
      "name": "word_pred_mal.ipynb",
      "provenance": [],
      "toc_visible": true,
      "mount_file_id": "16opFX0qzh8b9BZd-H4Qc_zD9aJIU1b8Q",
      "authorship_tag": "ABX9TyOs4xYnL2CAW5+wumx0vL8t",
      "include_colab_link": true
    },
    "kernelspec": {
      "name": "python3",
      "display_name": "Python 3"
    },
    "language_info": {
      "name": "python"
    },
    "accelerator": "GPU"
  },
  "cells": [
    {
      "cell_type": "markdown",
      "metadata": {
        "id": "view-in-github",
        "colab_type": "text"
      },
      "source": [
        "<a href=\"https://colab.research.google.com/github/ashinkrishnan/Next_Word_Predictor_Mal/blob/main/word_pred_mal.ipynb\" target=\"_parent\"><img src=\"https://colab.research.google.com/assets/colab-badge.svg\" alt=\"Open In Colab\"/></a>"
      ]
    },
    {
      "cell_type": "code",
      "metadata": {
        "id": "IHF2Qaj4dZFk"
      },
      "source": [
        "import numpy as np\n",
        "import heapq\n",
        "import matplotlib.pyplot as plt\n",
        "from nltk.tokenize import RegexpTokenizer\n",
        "from keras.models import Sequential, load_model\n",
        "from keras.layers import LSTM,Activation,Dense\n",
        "import pickle\n",
        "from tensorflow.keras.optimizers import RMSprop\n",
        "\n"
      ],
      "execution_count": 41,
      "outputs": []
    },
    {
      "cell_type": "code",
      "metadata": {
        "id": "_Zwf5QQyaYKP"
      },
      "source": [
        "#sample_text = \"എ.എം.ഡി. നിർമ്മിക്കുന്ന ഗ്രാഫിക്സ് പ്രോസ്സസിംഗ് യൂണിറ്റിൻറെ ബ്രാൻഡ് പേരാണ് റാഡിയോൺ R700.\""
      ],
      "execution_count": 42,
      "outputs": []
    },
    {
      "cell_type": "code",
      "metadata": {
        "id": "w9kGqtY5a1K7"
      },
      "source": [
        "# tokenizer = RegexpTokenizer(r'\\^w+|$[0-9]+|\\S+')\n",
        "# words_sample = tokenizer.tokenize(sample_text)"
      ],
      "execution_count": 43,
      "outputs": []
    },
    {
      "cell_type": "code",
      "metadata": {
        "id": "vYDoQJEebFRV"
      },
      "source": [
        "#words_sample"
      ],
      "execution_count": 119,
      "outputs": []
    },
    {
      "cell_type": "code",
      "metadata": {
        "colab": {
          "base_uri": "https://localhost:8080/"
        },
        "id": "DaNYqiVMdhzM",
        "outputId": "7dcb023b-1170-40eb-ce2c-d9d29eb33ab6"
      },
      "source": [
        "#reading the dataset\n",
        "path ='/content/drive/MyDrive/mal_corpus_minV2.txt'\n",
        "text = open(path).read()\n",
        "print('length of the corpus is: :', len(text))"
      ],
      "execution_count": 10,
      "outputs": [
        {
          "output_type": "stream",
          "name": "stdout",
          "text": [
            "length of the corpus is: : 303234\n"
          ]
        }
      ]
    },
    {
      "cell_type": "code",
      "metadata": {
        "id": "daESU2lGcVyt"
      },
      "source": [
        "\n",
        "#tokeniziting..\n",
        "tokenizer = RegexpTokenizer(r'\\^w+|$[0-9]+|\\S+')\n",
        "words = tokenizer.tokenize(text)\n"
      ],
      "execution_count": 11,
      "outputs": []
    },
    {
      "cell_type": "code",
      "metadata": {
        "colab": {
          "base_uri": "https://localhost:8080/"
        },
        "id": "MMAkXn35dLcX",
        "outputId": "c1f70070-b22d-4cbf-f188-6242bebec751"
      },
      "source": [
        "print(len(words))"
      ],
      "execution_count": 12,
      "outputs": [
        {
          "output_type": "stream",
          "name": "stdout",
          "text": [
            "31360\n"
          ]
        }
      ]
    },
    {
      "cell_type": "code",
      "metadata": {
        "id": "OnAkzGHlcoXn"
      },
      "source": [
        "#getting unique words..\n",
        "unique_words = np.unique(words)\n",
        "unique_word_index = dict((c, i) for i, c in enumerate(unique_words))"
      ],
      "execution_count": 13,
      "outputs": []
    },
    {
      "cell_type": "code",
      "metadata": {
        "colab": {
          "base_uri": "https://localhost:8080/"
        },
        "id": "OmZoGKh-czN0",
        "outputId": "3b1618ff-c847-4fcc-a1de-cc999bd9799a"
      },
      "source": [
        "\n",
        "print(len(unique_words))"
      ],
      "execution_count": 14,
      "outputs": [
        {
          "output_type": "stream",
          "name": "stdout",
          "text": [
            "16093\n"
          ]
        }
      ]
    },
    {
      "cell_type": "code",
      "metadata": {
        "id": "yP9j7PqqwM9k"
      },
      "source": [
        ""
      ],
      "execution_count": 14,
      "outputs": []
    },
    {
      "cell_type": "code",
      "metadata": {
        "colab": {
          "base_uri": "https://localhost:8080/"
        },
        "id": "_vKKvJk5c-6T",
        "outputId": "187e1799-3953-4599-fd62-aa1ab030ee7a"
      },
      "source": [
        "print(unique_words[2700:2705])"
      ],
      "execution_count": 15,
      "outputs": [
        {
          "output_type": "stream",
          "name": "stdout",
          "text": [
            "['ഉപയോഗം,' 'ഉപയോഗകാലം' 'ഉപയോഗക്ഷമതയെ' 'ഉപയോഗക്ഷമമാക്കാനുള്ള'\n",
            " 'ഉപയോഗയോഗ്യമല്ല.']\n"
          ]
        }
      ]
    },
    {
      "cell_type": "code",
      "metadata": {
        "id": "VOi5ZPGffukW",
        "colab": {
          "base_uri": "https://localhost:8080/"
        },
        "outputId": "a7a913fa-ad3b-495b-c507-590edf645930"
      },
      "source": [
        "\n",
        "WORD_LENGTH = 5\n",
        "next_words = []\n",
        "prev_words = []\n",
        "for j in range(len(words) - WORD_LENGTH):\n",
        "     prev_words.append(words[j:j + WORD_LENGTH])\n",
        "     next_words.append(words[j + WORD_LENGTH])\n",
        "print(prev_words[1300])\n",
        "print(next_words[1300])"
      ],
      "execution_count": 44,
      "outputs": [
        {
          "output_type": "stream",
          "name": "stdout",
          "text": [
            "['സ്ഥാപിതമായി.', 'മേരിലാന്റ്', 'ബാൽട്ടിമോറിലെ', 'ഹോംവുഡ്', 'കാമ്പസിൽ']\n",
            "സ്ഥിതിചെയ്യുന്ന\n"
          ]
        }
      ]
    },
    {
      "cell_type": "code",
      "metadata": {
        "colab": {
          "base_uri": "https://localhost:8080/"
        },
        "id": "Ct9TCqXntRcC",
        "outputId": "e2edbbbe-f8a3-499b-92d8-b0fa156d9c59"
      },
      "source": [
        "print(prev_words[2508])\n",
        "print(next_words[2508])"
      ],
      "execution_count": 77,
      "outputs": [
        {
          "output_type": "stream",
          "name": "stdout",
          "text": [
            "['ഏഴു', 'പേർക്ക്', 'നൂറിലധികം', 'പ്രത്യേക', 'ഉപകരണങ്ങൾ']\n",
            "ഉപയോഗിച്ച്\n"
          ]
        }
      ]
    },
    {
      "cell_type": "code",
      "metadata": {
        "id": "yqiJpiZotaRa"
      },
      "source": [
        "#X features.. Y feaures\n",
        "X = np.zeros((len(prev_words), WORD_LENGTH, len(unique_words)), dtype=bool)\n",
        "Y = np.zeros((len(next_words), len(unique_words)), dtype=bool)\n",
        "for i, each_words in enumerate(prev_words):\n",
        "    for j, each_word in enumerate(each_words):\n",
        "        X[i, j, unique_word_index[each_word]] = 1\n",
        "    Y[i, unique_word_index[next_words[i]]] = 1\n"
      ],
      "execution_count": 136,
      "outputs": []
    },
    {
      "cell_type": "code",
      "metadata": {
        "id": "DxCyrb6otyP9"
      },
      "source": [
        "#LSTM model\n",
        "model = Sequential()\n",
        "model.add(LSTM(128, input_shape=(WORD_LENGTH, len(unique_words))))\n",
        "model.add(Dense(len(unique_words)))\n",
        "model.add(Activation('softmax'))\n"
      ],
      "execution_count": 137,
      "outputs": []
    },
    {
      "cell_type": "code",
      "metadata": {
        "colab": {
          "base_uri": "https://localhost:8080/"
        },
        "id": "83LJZu6Bwdri",
        "outputId": "f486bf81-c49a-4903-a093-323e1361046f"
      },
      "source": [
        "#Model training...\n",
        "optimizer = RMSprop(learning_rate=0.01)\n",
        "model.compile(loss='categorical_crossentropy', optimizer=optimizer, metrics=['accuracy'])\n",
        "history = model.fit(X, Y, validation_split=0.05, batch_size=128, epochs=10, shuffle=True).history\n"
      ],
      "execution_count": 138,
      "outputs": [
        {
          "output_type": "stream",
          "name": "stdout",
          "text": [
            "Epoch 1/10\n",
            "233/233 [==============================] - 14s 50ms/step - loss: 8.5253 - accuracy: 0.1123 - val_loss: 9.5408 - val_accuracy: 0.0351\n",
            "Epoch 2/10\n",
            "233/233 [==============================] - 11s 47ms/step - loss: 7.9559 - accuracy: 0.1307 - val_loss: 9.7248 - val_accuracy: 0.0364\n",
            "Epoch 3/10\n",
            "233/233 [==============================] - 11s 47ms/step - loss: 7.6360 - accuracy: 0.1449 - val_loss: 10.1465 - val_accuracy: 0.0364\n",
            "Epoch 4/10\n",
            "233/233 [==============================] - 11s 47ms/step - loss: 7.4217 - accuracy: 0.1736 - val_loss: 10.4715 - val_accuracy: 0.0370\n",
            "Epoch 5/10\n",
            "233/233 [==============================] - 11s 47ms/step - loss: 7.2799 - accuracy: 0.2140 - val_loss: 10.8535 - val_accuracy: 0.0370\n",
            "Epoch 6/10\n",
            "233/233 [==============================] - 11s 47ms/step - loss: 7.1814 - accuracy: 0.2470 - val_loss: 11.1295 - val_accuracy: 0.0357\n",
            "Epoch 7/10\n",
            "233/233 [==============================] - 11s 47ms/step - loss: 7.1165 - accuracy: 0.2729 - val_loss: 11.3571 - val_accuracy: 0.0332\n",
            "Epoch 8/10\n",
            "233/233 [==============================] - 11s 47ms/step - loss: 7.0550 - accuracy: 0.2915 - val_loss: 11.4363 - val_accuracy: 0.0357\n",
            "Epoch 9/10\n",
            "233/233 [==============================] - 11s 47ms/step - loss: 7.0001 - accuracy: 0.3049 - val_loss: 11.5335 - val_accuracy: 0.0376\n",
            "Epoch 10/10\n",
            "233/233 [==============================] - 11s 48ms/step - loss: 6.9520 - accuracy: 0.3169 - val_loss: 11.5067 - val_accuracy: 0.0376\n"
          ]
        }
      ]
    },
    {
      "cell_type": "code",
      "metadata": {
        "id": "PzjJqpa-fENx"
      },
      "source": [
        "# model.save('keras_next_word_model.h5')"
      ],
      "execution_count": 153,
      "outputs": []
    },
    {
      "cell_type": "code",
      "metadata": {
        "id": "Ef3FOg-Rg19b"
      },
      "source": [
        "# pickle.dump(history, open(\"history.p\", \"wb\"))"
      ],
      "execution_count": 154,
      "outputs": []
    },
    {
      "cell_type": "code",
      "metadata": {
        "id": "dPrEnm7Eg2gS"
      },
      "source": [
        "model = load_model('/content/drive/MyDrive/keras_next_word_model.h5')"
      ],
      "execution_count": 46,
      "outputs": []
    },
    {
      "cell_type": "code",
      "metadata": {
        "id": "HiCqEmk3hJKA"
      },
      "source": [
        "history = pickle.load(open(\"history.p\", \"rb\"))"
      ],
      "execution_count": 157,
      "outputs": []
    },
    {
      "cell_type": "code",
      "metadata": {
        "id": "Be_sqvqQwp5X"
      },
      "source": [
        "# #Model Evaluation..\n",
        "# plt.plot(history['accuracy'])\n",
        "# plt.plot(history['val_accuracy'])\n",
        "# plt.title('model accuracy')\n",
        "# plt.ylabel('accuracy')\n",
        "# plt.xlabel('epoch')\n",
        "# plt.legend(['train', 'test'], loc='upper left')\n"
      ],
      "execution_count": 166,
      "outputs": []
    },
    {
      "cell_type": "code",
      "metadata": {
        "id": "kXqy2uPLwwVM"
      },
      "source": [
        "\n",
        "# plt.plot(history['loss'])\n",
        "# plt.plot(history['val_loss'])\n",
        "# plt.title('model loss')\n",
        "# plt.ylabel('loss')\n",
        "# plt.xlabel('epoch')\n",
        "# plt.legend(['train', 'test'], loc='upper left')"
      ],
      "execution_count": 167,
      "outputs": []
    },
    {
      "cell_type": "code",
      "metadata": {
        "id": "ZRBQ-5VVb_E9"
      },
      "source": [
        "def prepare_input(text):\n",
        "    \n",
        "    x = np.zeros((1, len(text.split(\" \")), len(unique_words)))\n",
        "    for t, word in enumerate(text.split()):\n",
        "        print(word)\n",
        "        x[0, t, unique_word_index[word]] = 1\n",
        "    return x\n"
      ],
      "execution_count": 47,
      "outputs": []
    },
    {
      "cell_type": "code",
      "metadata": {
        "id": "BqIL9g2kYG9P"
      },
      "source": [
        "str_= \"ഏഴു പേർക്ക് ഉപകരണങ്ങൾ ഉപയോഗം\""
      ],
      "execution_count": 78,
      "outputs": []
    },
    {
      "cell_type": "code",
      "metadata": {
        "colab": {
          "base_uri": "https://localhost:8080/"
        },
        "id": "4xS79BG29Ia5",
        "outputId": "2f8260d4-7bad-462a-da9f-d17c043c8bc4"
      },
      "source": [
        "prepare_input(str_)"
      ],
      "execution_count": 79,
      "outputs": [
        {
          "output_type": "stream",
          "name": "stdout",
          "text": [
            "ഏഴു\n",
            "പേർക്ക്\n",
            "ഉപകരണങ്ങൾ\n",
            "ഉപയോഗം\n"
          ]
        },
        {
          "output_type": "execute_result",
          "data": {
            "text/plain": [
              "array([[[0., 0., 0., ..., 0., 0., 0.],\n",
              "        [0., 0., 0., ..., 0., 0., 0.],\n",
              "        [0., 0., 0., ..., 0., 0., 0.],\n",
              "        [0., 0., 0., ..., 0., 0., 0.]]])"
            ]
          },
          "metadata": {},
          "execution_count": 79
        }
      ]
    },
    {
      "cell_type": "code",
      "metadata": {
        "id": "ZW0OjfVxb9kM"
      },
      "source": [
        "def sample(preds, top_n=3):\n",
        "    preds = np.asarray(preds).astype('float64')\n",
        "    preds = np.log(preds)\n",
        "    exp_preds = np.exp(preds)\n",
        "    preds = exp_preds / np.sum(exp_preds)\n",
        "\n",
        "    return heapq.nlargest(top_n, range(len(preds)), preds.take)"
      ],
      "execution_count": 50,
      "outputs": []
    },
    {
      "cell_type": "code",
      "metadata": {
        "id": "CR1SqvqqaoJd"
      },
      "source": [
        "def predict_completions(text, n=3):\n",
        "    x = prepare_input(text)\n",
        "    preds = model.predict(x, verbose=0)[0]\n",
        "    next_indices = sample(preds, n)\n",
        "    return [indices_char[idx] + predict_completion(text[1:] + indices_char[idx]) for idx in next_indices]"
      ],
      "execution_count": 51,
      "outputs": []
    },
    {
      "cell_type": "code",
      "metadata": {
        "id": "P-lDuz0j1aQ4"
      },
      "source": [
        "# quotes = [\n",
        "#     \"ആദ്യമായി ഒളിമ്പിക്സിൽ വ്യക്തഗത ഇനത്തിൽ ഇന്ത്യക്കു വേണ്ടി മെഡൽ നേടിയ കായിക താരമെന്ന ബഹുമതിയും ജാദവിനുള്ളതാണ്.\",\n",
        "#     \"ഫിൻലൻഡിലെ ഹെൽസിങ്കിയിൽ വച്ചു നടന്ന വേനൽക്കാല ഒളിമ്പിക്സിൽ പുരുഷന്മാരുടെ ഗുസ്തി മത്സരത്തിൽ ഇദ്ദേഹത്തിനു വെങ്കല മെഡൽ ലഭിച്ചു.\",\n",
        "#     \"ഝാർഖണ്ഡിലുള്ള ജാംഷെഡ്‌പൂർ എന്ന സ്ഥലത്താണ് തനുശ്രീ ദത്ത ജനിച്ചതും വളർന്നതും.\"\n",
        "\n",
        "# ]"
      ],
      "execution_count": 52,
      "outputs": []
    },
    {
      "cell_type": "code",
      "metadata": {
        "id": "VJRHHlwrDj6a"
      },
      "source": [
        "# for q in quotes:\n",
        "#     seq = q[:40].lower()\n",
        "#     print(seq)\n",
        "#     print(predict_completions(seq,3))\n",
        "#     print()\n",
        "\n",
        "\n"
      ],
      "execution_count": 64,
      "outputs": []
    },
    {
      "cell_type": "code",
      "metadata": {
        "id": "-oRMYVYZE8V4"
      },
      "source": [
        "# print(predict_completions(seq,3))"
      ],
      "execution_count": 81,
      "outputs": []
    },
    {
      "cell_type": "code",
      "metadata": {
        "id": "ONVcrbFyDtmq"
      },
      "source": [
        ""
      ],
      "execution_count": 215,
      "outputs": []
    },
    {
      "cell_type": "code",
      "metadata": {
        "id": "PdvfrpyuW_zC"
      },
      "source": [
        ""
      ],
      "execution_count": 110,
      "outputs": []
    },
    {
      "cell_type": "code",
      "metadata": {
        "id": "wQ92AbkQDv8W"
      },
      "source": [
        ""
      ],
      "execution_count": 143,
      "outputs": []
    },
    {
      "cell_type": "code",
      "metadata": {
        "id": "g10rhJrvD8UK"
      },
      "source": [
        ""
      ],
      "execution_count": 143,
      "outputs": []
    },
    {
      "cell_type": "code",
      "metadata": {
        "id": "6ErbpmCdFhRh"
      },
      "source": [
        ""
      ],
      "execution_count": 143,
      "outputs": []
    },
    {
      "cell_type": "code",
      "metadata": {
        "id": "Qn06-20XFjSF"
      },
      "source": [
        ""
      ],
      "execution_count": null,
      "outputs": []
    }
  ]
}